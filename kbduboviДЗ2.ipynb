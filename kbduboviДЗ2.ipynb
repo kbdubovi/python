{
 "cells": [
  {
   "cell_type": "markdown",
   "metadata": {},
   "source": [
    "# Базовая часть"
   ]
  },
  {
   "cell_type": "markdown",
   "metadata": {},
   "source": [
    "Рассмотрим задание 2 из лекции. При анализе отзывов на работу техподдержки вы считали массив из отзывов (для простоты отзыва приведено всего два, но могло быть и больше):"
   ]
  },
  {
   "cell_type": "code",
   "execution_count": 1,
   "metadata": {
    "collapsed": true
   },
   "outputs": [],
   "source": [
    "reviews = [\"\"\"Телефон абонента: +7 916 000 00 01\n",
    "Время: 10:34\n",
    "Дата: 20.05.2017\n",
    "Оценка: 1\n",
    "Длительность разговора (мин.): 0:32\n",
    "Комментарий: Общение с сотрудником вашей техподдержки мне не понравилось. Раньше всегда отвечала девушка с приятным голосом, а сегодня какой-то мужчина. Совсем никуда не годится, примите меры!!!\"\"\",\n",
    "\"\"\"Телефон абонента: +7 916 000 00 02\n",
    "Время: 9:20\n",
    "Дата: 21.05.2017\n",
    "Оценка: 5\n",
    "Длительность разговора (мин.): 25:07\n",
    "Комментарий: С моей проблемой мне помогли, большое спасибо!\"\"\"]"
   ]
  },
  {
   "cell_type": "markdown",
   "metadata": {},
   "source": [
    "Сформируйте на основе этого массива словарь my_base, в котором по ключу в виде строки с телефоном абонента будет храниться другой словарь. Внутренний словарь по ключам в виде названий полей отзыва должен хранить значение полей (в виде строк). Например, код ниже должен выдать True:"
   ]
  },
  {
   "cell_type": "code",
   "execution_count": 2,
   "metadata": {
    "collapsed": false
   },
   "outputs": [
    {
     "name": "stdout",
     "output_type": "stream",
     "text": [
      "Телефон абонента: +7 916 000 00 02\n",
      "Оценка: 5\n",
      "Время: 9:20\n",
      "Комментарий: С моей проблемой мне помогли, большое спасибо!\n",
      "Дата: 21.05.2017\n",
      "Длительность разговора (мин.): 25:07\n",
      "=======================================================\n",
      "Телефон абонента: +7 916 000 00 01\n",
      "Оценка: 1\n",
      "Время: 10:34\n",
      "Комментарий: Общение с сотрудником вашей техподдержки мне не понравилось. Раньше всегда отвечала девушка с приятным голосом, а сегодня какой-то мужчина. Совсем никуда не годится, примите меры!!!\n",
      "Дата: 20.05.2017\n",
      "Длительность разговора (мин.): 0:32\n",
      "=======================================================\n"
     ]
    }
   ],
   "source": [
    "key_phone = 'Телефон абонента'\n",
    "key_time = 'Время'\n",
    "key_date = 'Дата'\n",
    "key_rating = 'Оценка'\n",
    "key_duration = 'Длительность разговора (мин.)'\n",
    "key_comment = 'Комментарий'\n",
    "\n",
    "my_base = dict()\n",
    "\n",
    "for rec in reviews:\n",
    "    #print '===================='\n",
    "    #print rec\n",
    "    #print '===================='\n",
    "    \n",
    "    rec_decode = rec.decode('utf-8') \n",
    "    rec_list = rec_decode.split('\\n')\n",
    "    \n",
    "    p_number = rec_list[0][18:]\n",
    "    my_base[p_number] = {}\n",
    "    my_base[p_number][key_time] = rec_list[1][7:].encode('utf-8')\n",
    "    my_base[p_number][key_date] = rec_list[2][6:].encode('utf-8')\n",
    "    my_base[p_number][key_rating] = rec_list[3][8:].encode('utf-8')\n",
    "    my_base[p_number][key_duration] = rec_list[4][31:].encode('utf-8')\n",
    "    my_base[p_number][key_comment] = rec_list[5][13:].encode('utf-8')\n",
    "    \n",
    "for k_phone in my_base.iterkeys():\n",
    "    print key_phone +': '+ k_phone.encode('utf-8')\n",
    "    for key1, value in my_base[k_phone].iteritems():\n",
    "        print key1+':', value\n",
    "    print '======================================================='"
   ]
  },
  {
   "cell_type": "code",
   "execution_count": 3,
   "metadata": {
    "collapsed": false
   },
   "outputs": [
    {
     "data": {
      "text/plain": [
       "True"
      ]
     },
     "execution_count": 3,
     "metadata": {},
     "output_type": "execute_result"
    }
   ],
   "source": [
    "my_base['+7 916 000 00 01']['Дата'] == '20.05.2017'"
   ]
  },
  {
   "cell_type": "markdown",
   "metadata": {},
   "source": [
    "Обратите внимание, что вам могут немного мешать пробелы после знаков \":\""
   ]
  },
  {
   "cell_type": "markdown",
   "metadata": {},
   "source": [
    "# Продвинутая часть"
   ]
  },
  {
   "cell_type": "markdown",
   "metadata": {},
   "source": [
    "Попробуйте выполнить предыдущее задание, но теперь обеспечив хранение полей из отзыва в словаре в тех типах данных, которые на ваш взгляд наиболее уместны. Подумайте, что делать с датой и временем. Возможно вам покажется полезным немного воспользоваться поисковиком или документацией к Python, а может быть вам хватит стандартных типов данных.\n",
    "Объясните свой выбор в комментариях к коду или markdown ячейках и продемонстрируйте, что поля имеют нужный тип."
   ]
  },
  {
   "cell_type": "markdown",
   "metadata": {},
   "source": [
    "# Сложная часть"
   ]
  },
  {
   "cell_type": "markdown",
   "metadata": {},
   "source": [
    "На лекции было рассказано про неизменяемые типы, в частности про tuple. Подумайте, можно ли \"сломать\" неизменяемость tuple? Как сделать tuple изменяемым? Можно ли будет его добавить в множество или использовать в качестве ключа в словаре?"
   ]
  },
  {
   "cell_type": "code",
   "execution_count": null,
   "metadata": {
    "collapsed": true
   },
   "outputs": [],
   "source": []
  }
 ],
 "metadata": {
  "anaconda-cloud": {},
  "kernelspec": {
   "display_name": "Python 2",
   "language": "python",
   "name": "python2"
  },
  "language_info": {
   "codemirror_mode": {
    "name": "ipython",
    "version": 2
   },
   "file_extension": ".py",
   "mimetype": "text/x-python",
   "name": "python",
   "nbconvert_exporter": "python",
   "pygments_lexer": "ipython2",
   "version": "2.7.13"
  }
 },
 "nbformat": 4,
 "nbformat_minor": 1
}
